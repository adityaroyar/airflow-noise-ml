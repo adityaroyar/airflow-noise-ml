{
  "nbformat": 4,
  "nbformat_minor": 0,
  "metadata": {
    "colab": {
      "name": "airfoil-self-noise-nn.ipynb",
      "provenance": [],
      "collapsed_sections": []
    },
    "kernelspec": {
      "name": "python3",
      "display_name": "Python 3"
    },
    "language_info": {
      "name": "python"
    }
  },
  "cells": [
    {
      "cell_type": "markdown",
      "metadata": {
        "id": "lmBFBB7-IhW3"
      },
      "source": [
        "# Simulating Airfoil Self-Noise using Neural Networks\n",
        "\n",
        "Source - https://archive.ics.uci.edu/ml/datasets/Airfoil+Self-Noise\n",
        "\n",
        "## Dataset Description\n",
        "* Built using the results of a series of aerodynamic and acoustic tests on sections of aerodynamic blades performed in an anechoic wind tunnel\n",
        "* Features - \n",
        "  * Number of instances - 1503\n",
        "  * Number of attributes - 6\n",
        "  * Dataset characteristics - Multivariate\n",
        "  * Attribute characteristics - Real\n",
        "* Attributes - \n",
        "  * `Frequency` - Frequency in Hertz(Hz)\n",
        "  * `AngleAttack` - Angle of Attack in degrees\n",
        "  * `ChordLength` - Chord Length in meters\n",
        "  * `FSVelox` - Free stream velocity in metres per second\n",
        "  * `SSDT` - Suction side displacement thickness in meters\n",
        "  * `SSP` - Scaled sound pressure level in decibels(target)"
      ]
    },
    {
      "cell_type": "code",
      "metadata": {
        "colab": {
          "base_uri": "https://localhost:8080/"
        },
        "id": "EjZ57E3rLnUz",
        "outputId": "6736182d-6170-4836-ce6f-d1c4ce55e0ad"
      },
      "source": [
        "from google.colab import drive\n",
        "drive.mount('/content/drive')"
      ],
      "execution_count": 1,
      "outputs": [
        {
          "output_type": "stream",
          "text": [
            "Drive already mounted at /content/drive; to attempt to forcibly remount, call drive.mount(\"/content/drive\", force_remount=True).\n"
          ],
          "name": "stdout"
        }
      ]
    },
    {
      "cell_type": "code",
      "metadata": {
        "colab": {
          "base_uri": "https://localhost:8080/",
          "height": 419
        },
        "id": "p6xMxgi-HqAE",
        "outputId": "173fb782-2c50-46cf-e770-e4a55aa8272f"
      },
      "source": [
        "import pandas as pd\n",
        "\n",
        "# Listing the attribute names\n",
        "ASNNames = ['Frequency',\n",
        "            'AngleAttack',\n",
        "            'ChordLength',\n",
        "            'FSVelox',\n",
        "            'SSDT',\n",
        "            'SSP']\n",
        "\n",
        "ASNData = pd.read_csv('/content/drive/MyDrive/airfoil_self_noise.dat', delim_whitespace=True, names=ASNNames)\n",
        "ASNData"
      ],
      "execution_count": 2,
      "outputs": [
        {
          "output_type": "execute_result",
          "data": {
            "text/html": [
              "<div>\n",
              "<style scoped>\n",
              "    .dataframe tbody tr th:only-of-type {\n",
              "        vertical-align: middle;\n",
              "    }\n",
              "\n",
              "    .dataframe tbody tr th {\n",
              "        vertical-align: top;\n",
              "    }\n",
              "\n",
              "    .dataframe thead th {\n",
              "        text-align: right;\n",
              "    }\n",
              "</style>\n",
              "<table border=\"1\" class=\"dataframe\">\n",
              "  <thead>\n",
              "    <tr style=\"text-align: right;\">\n",
              "      <th></th>\n",
              "      <th>Frequency</th>\n",
              "      <th>AngleAttack</th>\n",
              "      <th>ChordLength</th>\n",
              "      <th>FSVelox</th>\n",
              "      <th>SSDT</th>\n",
              "      <th>SSP</th>\n",
              "    </tr>\n",
              "  </thead>\n",
              "  <tbody>\n",
              "    <tr>\n",
              "      <th>0</th>\n",
              "      <td>800</td>\n",
              "      <td>0.0</td>\n",
              "      <td>0.3048</td>\n",
              "      <td>71.3</td>\n",
              "      <td>0.002663</td>\n",
              "      <td>126.201</td>\n",
              "    </tr>\n",
              "    <tr>\n",
              "      <th>1</th>\n",
              "      <td>1000</td>\n",
              "      <td>0.0</td>\n",
              "      <td>0.3048</td>\n",
              "      <td>71.3</td>\n",
              "      <td>0.002663</td>\n",
              "      <td>125.201</td>\n",
              "    </tr>\n",
              "    <tr>\n",
              "      <th>2</th>\n",
              "      <td>1250</td>\n",
              "      <td>0.0</td>\n",
              "      <td>0.3048</td>\n",
              "      <td>71.3</td>\n",
              "      <td>0.002663</td>\n",
              "      <td>125.951</td>\n",
              "    </tr>\n",
              "    <tr>\n",
              "      <th>3</th>\n",
              "      <td>1600</td>\n",
              "      <td>0.0</td>\n",
              "      <td>0.3048</td>\n",
              "      <td>71.3</td>\n",
              "      <td>0.002663</td>\n",
              "      <td>127.591</td>\n",
              "    </tr>\n",
              "    <tr>\n",
              "      <th>4</th>\n",
              "      <td>2000</td>\n",
              "      <td>0.0</td>\n",
              "      <td>0.3048</td>\n",
              "      <td>71.3</td>\n",
              "      <td>0.002663</td>\n",
              "      <td>127.461</td>\n",
              "    </tr>\n",
              "    <tr>\n",
              "      <th>...</th>\n",
              "      <td>...</td>\n",
              "      <td>...</td>\n",
              "      <td>...</td>\n",
              "      <td>...</td>\n",
              "      <td>...</td>\n",
              "      <td>...</td>\n",
              "    </tr>\n",
              "    <tr>\n",
              "      <th>1498</th>\n",
              "      <td>2500</td>\n",
              "      <td>15.6</td>\n",
              "      <td>0.1016</td>\n",
              "      <td>39.6</td>\n",
              "      <td>0.052849</td>\n",
              "      <td>110.264</td>\n",
              "    </tr>\n",
              "    <tr>\n",
              "      <th>1499</th>\n",
              "      <td>3150</td>\n",
              "      <td>15.6</td>\n",
              "      <td>0.1016</td>\n",
              "      <td>39.6</td>\n",
              "      <td>0.052849</td>\n",
              "      <td>109.254</td>\n",
              "    </tr>\n",
              "    <tr>\n",
              "      <th>1500</th>\n",
              "      <td>4000</td>\n",
              "      <td>15.6</td>\n",
              "      <td>0.1016</td>\n",
              "      <td>39.6</td>\n",
              "      <td>0.052849</td>\n",
              "      <td>106.604</td>\n",
              "    </tr>\n",
              "    <tr>\n",
              "      <th>1501</th>\n",
              "      <td>5000</td>\n",
              "      <td>15.6</td>\n",
              "      <td>0.1016</td>\n",
              "      <td>39.6</td>\n",
              "      <td>0.052849</td>\n",
              "      <td>106.224</td>\n",
              "    </tr>\n",
              "    <tr>\n",
              "      <th>1502</th>\n",
              "      <td>6300</td>\n",
              "      <td>15.6</td>\n",
              "      <td>0.1016</td>\n",
              "      <td>39.6</td>\n",
              "      <td>0.052849</td>\n",
              "      <td>104.204</td>\n",
              "    </tr>\n",
              "  </tbody>\n",
              "</table>\n",
              "<p>1503 rows × 6 columns</p>\n",
              "</div>"
            ],
            "text/plain": [
              "      Frequency  AngleAttack  ChordLength  FSVelox      SSDT      SSP\n",
              "0           800          0.0       0.3048     71.3  0.002663  126.201\n",
              "1          1000          0.0       0.3048     71.3  0.002663  125.201\n",
              "2          1250          0.0       0.3048     71.3  0.002663  125.951\n",
              "3          1600          0.0       0.3048     71.3  0.002663  127.591\n",
              "4          2000          0.0       0.3048     71.3  0.002663  127.461\n",
              "...         ...          ...          ...      ...       ...      ...\n",
              "1498       2500         15.6       0.1016     39.6  0.052849  110.264\n",
              "1499       3150         15.6       0.1016     39.6  0.052849  109.254\n",
              "1500       4000         15.6       0.1016     39.6  0.052849  106.604\n",
              "1501       5000         15.6       0.1016     39.6  0.052849  106.224\n",
              "1502       6300         15.6       0.1016     39.6  0.052849  104.204\n",
              "\n",
              "[1503 rows x 6 columns]"
            ]
          },
          "metadata": {
            "tags": []
          },
          "execution_count": 2
        }
      ]
    },
    {
      "cell_type": "code",
      "metadata": {
        "colab": {
          "base_uri": "https://localhost:8080/"
        },
        "id": "7NOdlwPcIgo5",
        "outputId": "234bacb5-85ff-499a-b2f8-a2038b5963e6"
      },
      "source": [
        "ASNData.info()"
      ],
      "execution_count": 3,
      "outputs": [
        {
          "output_type": "stream",
          "text": [
            "<class 'pandas.core.frame.DataFrame'>\n",
            "RangeIndex: 1503 entries, 0 to 1502\n",
            "Data columns (total 6 columns):\n",
            " #   Column       Non-Null Count  Dtype  \n",
            "---  ------       --------------  -----  \n",
            " 0   Frequency    1503 non-null   int64  \n",
            " 1   AngleAttack  1503 non-null   float64\n",
            " 2   ChordLength  1503 non-null   float64\n",
            " 3   FSVelox      1503 non-null   float64\n",
            " 4   SSDT         1503 non-null   float64\n",
            " 5   SSP          1503 non-null   float64\n",
            "dtypes: float64(5), int64(1)\n",
            "memory usage: 70.6 KB\n"
          ],
          "name": "stdout"
        }
      ]
    },
    {
      "cell_type": "code",
      "metadata": {
        "colab": {
          "base_uri": "https://localhost:8080/",
          "height": 235
        },
        "id": "pU_x975gMjJL",
        "outputId": "f7fb9059-df46-4b9c-9ba6-2d4a0fa7125d"
      },
      "source": [
        "basic_stats = ASNData.describe()\n",
        "basic_stats = basic_stats.transpose()\n",
        "basic_stats"
      ],
      "execution_count": 4,
      "outputs": [
        {
          "output_type": "execute_result",
          "data": {
            "text/html": [
              "<div>\n",
              "<style scoped>\n",
              "    .dataframe tbody tr th:only-of-type {\n",
              "        vertical-align: middle;\n",
              "    }\n",
              "\n",
              "    .dataframe tbody tr th {\n",
              "        vertical-align: top;\n",
              "    }\n",
              "\n",
              "    .dataframe thead th {\n",
              "        text-align: right;\n",
              "    }\n",
              "</style>\n",
              "<table border=\"1\" class=\"dataframe\">\n",
              "  <thead>\n",
              "    <tr style=\"text-align: right;\">\n",
              "      <th></th>\n",
              "      <th>count</th>\n",
              "      <th>mean</th>\n",
              "      <th>std</th>\n",
              "      <th>min</th>\n",
              "      <th>25%</th>\n",
              "      <th>50%</th>\n",
              "      <th>75%</th>\n",
              "      <th>max</th>\n",
              "    </tr>\n",
              "  </thead>\n",
              "  <tbody>\n",
              "    <tr>\n",
              "      <th>Frequency</th>\n",
              "      <td>1503.0</td>\n",
              "      <td>2886.380572</td>\n",
              "      <td>3152.573137</td>\n",
              "      <td>200.000000</td>\n",
              "      <td>800.000000</td>\n",
              "      <td>1600.000000</td>\n",
              "      <td>4000.000000</td>\n",
              "      <td>20000.000000</td>\n",
              "    </tr>\n",
              "    <tr>\n",
              "      <th>AngleAttack</th>\n",
              "      <td>1503.0</td>\n",
              "      <td>6.782302</td>\n",
              "      <td>5.918128</td>\n",
              "      <td>0.000000</td>\n",
              "      <td>2.000000</td>\n",
              "      <td>5.400000</td>\n",
              "      <td>9.900000</td>\n",
              "      <td>22.200000</td>\n",
              "    </tr>\n",
              "    <tr>\n",
              "      <th>ChordLength</th>\n",
              "      <td>1503.0</td>\n",
              "      <td>0.136548</td>\n",
              "      <td>0.093541</td>\n",
              "      <td>0.025400</td>\n",
              "      <td>0.050800</td>\n",
              "      <td>0.101600</td>\n",
              "      <td>0.228600</td>\n",
              "      <td>0.304800</td>\n",
              "    </tr>\n",
              "    <tr>\n",
              "      <th>FSVelox</th>\n",
              "      <td>1503.0</td>\n",
              "      <td>50.860745</td>\n",
              "      <td>15.572784</td>\n",
              "      <td>31.700000</td>\n",
              "      <td>39.600000</td>\n",
              "      <td>39.600000</td>\n",
              "      <td>71.300000</td>\n",
              "      <td>71.300000</td>\n",
              "    </tr>\n",
              "    <tr>\n",
              "      <th>SSDT</th>\n",
              "      <td>1503.0</td>\n",
              "      <td>0.011140</td>\n",
              "      <td>0.013150</td>\n",
              "      <td>0.000401</td>\n",
              "      <td>0.002535</td>\n",
              "      <td>0.004957</td>\n",
              "      <td>0.015576</td>\n",
              "      <td>0.058411</td>\n",
              "    </tr>\n",
              "    <tr>\n",
              "      <th>SSP</th>\n",
              "      <td>1503.0</td>\n",
              "      <td>124.835943</td>\n",
              "      <td>6.898657</td>\n",
              "      <td>103.380000</td>\n",
              "      <td>120.191000</td>\n",
              "      <td>125.721000</td>\n",
              "      <td>129.995500</td>\n",
              "      <td>140.987000</td>\n",
              "    </tr>\n",
              "  </tbody>\n",
              "</table>\n",
              "</div>"
            ],
            "text/plain": [
              "              count         mean  ...          75%           max\n",
              "Frequency    1503.0  2886.380572  ...  4000.000000  20000.000000\n",
              "AngleAttack  1503.0     6.782302  ...     9.900000     22.200000\n",
              "ChordLength  1503.0     0.136548  ...     0.228600      0.304800\n",
              "FSVelox      1503.0    50.860745  ...    71.300000     71.300000\n",
              "SSDT         1503.0     0.011140  ...     0.015576      0.058411\n",
              "SSP          1503.0   124.835943  ...   129.995500    140.987000\n",
              "\n",
              "[6 rows x 8 columns]"
            ]
          },
          "metadata": {
            "tags": []
          },
          "execution_count": 4
        }
      ]
    },
    {
      "cell_type": "markdown",
      "metadata": {
        "id": "GuHqpfGPNCtE"
      },
      "source": [
        "## Scaling using Scikit-Learn\n",
        "\n",
        "* As there is high range of variability in the predictor variables, the predictors having a larger range could influence the system response more as compared to the predictors having small numerical ranges\n",
        "* This can impact the accuracy of the predictions and can reduce the sensitivity of the model\n",
        "* To avoid this, we can reduce the values so that they fall within a common range using **feature scaling**\n",
        "\n",
        "$x_{scaled}$ = $\\frac{x - x_{min}}{x_{max}-x_{min}}$"
      ]
    },
    {
      "cell_type": "code",
      "metadata": {
        "colab": {
          "base_uri": "https://localhost:8080/",
          "height": 419
        },
        "id": "572mLQC8Mwrc",
        "outputId": "81febc31-2ed7-4fa1-9ee4-ff7d7e91c18d"
      },
      "source": [
        "from sklearn.preprocessing import MinMaxScaler\n",
        "\n",
        "scaler_object = MinMaxScaler()\n",
        "# print(scaler_object.fit(ASNData))\n",
        "ASNDataScaled = scaler_object.fit_transform(ASNData)\n",
        "ASNDataScaled = pd.DataFrame(ASNDataScaled, columns=ASNNames)\n",
        "ASNDataScaled"
      ],
      "execution_count": 5,
      "outputs": [
        {
          "output_type": "execute_result",
          "data": {
            "text/html": [
              "<div>\n",
              "<style scoped>\n",
              "    .dataframe tbody tr th:only-of-type {\n",
              "        vertical-align: middle;\n",
              "    }\n",
              "\n",
              "    .dataframe tbody tr th {\n",
              "        vertical-align: top;\n",
              "    }\n",
              "\n",
              "    .dataframe thead th {\n",
              "        text-align: right;\n",
              "    }\n",
              "</style>\n",
              "<table border=\"1\" class=\"dataframe\">\n",
              "  <thead>\n",
              "    <tr style=\"text-align: right;\">\n",
              "      <th></th>\n",
              "      <th>Frequency</th>\n",
              "      <th>AngleAttack</th>\n",
              "      <th>ChordLength</th>\n",
              "      <th>FSVelox</th>\n",
              "      <th>SSDT</th>\n",
              "      <th>SSP</th>\n",
              "    </tr>\n",
              "  </thead>\n",
              "  <tbody>\n",
              "    <tr>\n",
              "      <th>0</th>\n",
              "      <td>0.030303</td>\n",
              "      <td>0.000000</td>\n",
              "      <td>1.000000</td>\n",
              "      <td>1.000000</td>\n",
              "      <td>0.039005</td>\n",
              "      <td>0.606829</td>\n",
              "    </tr>\n",
              "    <tr>\n",
              "      <th>1</th>\n",
              "      <td>0.040404</td>\n",
              "      <td>0.000000</td>\n",
              "      <td>1.000000</td>\n",
              "      <td>1.000000</td>\n",
              "      <td>0.039005</td>\n",
              "      <td>0.580238</td>\n",
              "    </tr>\n",
              "    <tr>\n",
              "      <th>2</th>\n",
              "      <td>0.053030</td>\n",
              "      <td>0.000000</td>\n",
              "      <td>1.000000</td>\n",
              "      <td>1.000000</td>\n",
              "      <td>0.039005</td>\n",
              "      <td>0.600181</td>\n",
              "    </tr>\n",
              "    <tr>\n",
              "      <th>3</th>\n",
              "      <td>0.070707</td>\n",
              "      <td>0.000000</td>\n",
              "      <td>1.000000</td>\n",
              "      <td>1.000000</td>\n",
              "      <td>0.039005</td>\n",
              "      <td>0.643790</td>\n",
              "    </tr>\n",
              "    <tr>\n",
              "      <th>4</th>\n",
              "      <td>0.090909</td>\n",
              "      <td>0.000000</td>\n",
              "      <td>1.000000</td>\n",
              "      <td>1.000000</td>\n",
              "      <td>0.039005</td>\n",
              "      <td>0.640333</td>\n",
              "    </tr>\n",
              "    <tr>\n",
              "      <th>...</th>\n",
              "      <td>...</td>\n",
              "      <td>...</td>\n",
              "      <td>...</td>\n",
              "      <td>...</td>\n",
              "      <td>...</td>\n",
              "      <td>...</td>\n",
              "    </tr>\n",
              "    <tr>\n",
              "      <th>1498</th>\n",
              "      <td>0.116162</td>\n",
              "      <td>0.702703</td>\n",
              "      <td>0.272727</td>\n",
              "      <td>0.199495</td>\n",
              "      <td>0.904111</td>\n",
              "      <td>0.183051</td>\n",
              "    </tr>\n",
              "    <tr>\n",
              "      <th>1499</th>\n",
              "      <td>0.148990</td>\n",
              "      <td>0.702703</td>\n",
              "      <td>0.272727</td>\n",
              "      <td>0.199495</td>\n",
              "      <td>0.904111</td>\n",
              "      <td>0.156194</td>\n",
              "    </tr>\n",
              "    <tr>\n",
              "      <th>1500</th>\n",
              "      <td>0.191919</td>\n",
              "      <td>0.702703</td>\n",
              "      <td>0.272727</td>\n",
              "      <td>0.199495</td>\n",
              "      <td>0.904111</td>\n",
              "      <td>0.085729</td>\n",
              "    </tr>\n",
              "    <tr>\n",
              "      <th>1501</th>\n",
              "      <td>0.242424</td>\n",
              "      <td>0.702703</td>\n",
              "      <td>0.272727</td>\n",
              "      <td>0.199495</td>\n",
              "      <td>0.904111</td>\n",
              "      <td>0.075624</td>\n",
              "    </tr>\n",
              "    <tr>\n",
              "      <th>1502</th>\n",
              "      <td>0.308081</td>\n",
              "      <td>0.702703</td>\n",
              "      <td>0.272727</td>\n",
              "      <td>0.199495</td>\n",
              "      <td>0.904111</td>\n",
              "      <td>0.021911</td>\n",
              "    </tr>\n",
              "  </tbody>\n",
              "</table>\n",
              "<p>1503 rows × 6 columns</p>\n",
              "</div>"
            ],
            "text/plain": [
              "      Frequency  AngleAttack  ChordLength   FSVelox      SSDT       SSP\n",
              "0      0.030303     0.000000     1.000000  1.000000  0.039005  0.606829\n",
              "1      0.040404     0.000000     1.000000  1.000000  0.039005  0.580238\n",
              "2      0.053030     0.000000     1.000000  1.000000  0.039005  0.600181\n",
              "3      0.070707     0.000000     1.000000  1.000000  0.039005  0.643790\n",
              "4      0.090909     0.000000     1.000000  1.000000  0.039005  0.640333\n",
              "...         ...          ...          ...       ...       ...       ...\n",
              "1498   0.116162     0.702703     0.272727  0.199495  0.904111  0.183051\n",
              "1499   0.148990     0.702703     0.272727  0.199495  0.904111  0.156194\n",
              "1500   0.191919     0.702703     0.272727  0.199495  0.904111  0.085729\n",
              "1501   0.242424     0.702703     0.272727  0.199495  0.904111  0.075624\n",
              "1502   0.308081     0.702703     0.272727  0.199495  0.904111  0.021911\n",
              "\n",
              "[1503 rows x 6 columns]"
            ]
          },
          "metadata": {
            "tags": []
          },
          "execution_count": 5
        }
      ]
    },
    {
      "cell_type": "code",
      "metadata": {
        "colab": {
          "base_uri": "https://localhost:8080/",
          "height": 235
        },
        "id": "sK5hwPQ_PicM",
        "outputId": "ab131b2c-30c2-4262-8495-6d8cb5464951"
      },
      "source": [
        "summary = ASNDataScaled.describe()\n",
        "summary = summary.transpose()\n",
        "summary"
      ],
      "execution_count": 6,
      "outputs": [
        {
          "output_type": "execute_result",
          "data": {
            "text/html": [
              "<div>\n",
              "<style scoped>\n",
              "    .dataframe tbody tr th:only-of-type {\n",
              "        vertical-align: middle;\n",
              "    }\n",
              "\n",
              "    .dataframe tbody tr th {\n",
              "        vertical-align: top;\n",
              "    }\n",
              "\n",
              "    .dataframe thead th {\n",
              "        text-align: right;\n",
              "    }\n",
              "</style>\n",
              "<table border=\"1\" class=\"dataframe\">\n",
              "  <thead>\n",
              "    <tr style=\"text-align: right;\">\n",
              "      <th></th>\n",
              "      <th>count</th>\n",
              "      <th>mean</th>\n",
              "      <th>std</th>\n",
              "      <th>min</th>\n",
              "      <th>25%</th>\n",
              "      <th>50%</th>\n",
              "      <th>75%</th>\n",
              "      <th>max</th>\n",
              "    </tr>\n",
              "  </thead>\n",
              "  <tbody>\n",
              "    <tr>\n",
              "      <th>Frequency</th>\n",
              "      <td>1503.0</td>\n",
              "      <td>0.135676</td>\n",
              "      <td>0.159221</td>\n",
              "      <td>0.0</td>\n",
              "      <td>0.030303</td>\n",
              "      <td>0.070707</td>\n",
              "      <td>0.191919</td>\n",
              "      <td>1.0</td>\n",
              "    </tr>\n",
              "    <tr>\n",
              "      <th>AngleAttack</th>\n",
              "      <td>1503.0</td>\n",
              "      <td>0.305509</td>\n",
              "      <td>0.266582</td>\n",
              "      <td>0.0</td>\n",
              "      <td>0.090090</td>\n",
              "      <td>0.243243</td>\n",
              "      <td>0.445946</td>\n",
              "      <td>1.0</td>\n",
              "    </tr>\n",
              "    <tr>\n",
              "      <th>ChordLength</th>\n",
              "      <td>1503.0</td>\n",
              "      <td>0.397810</td>\n",
              "      <td>0.334791</td>\n",
              "      <td>0.0</td>\n",
              "      <td>0.090909</td>\n",
              "      <td>0.272727</td>\n",
              "      <td>0.727273</td>\n",
              "      <td>1.0</td>\n",
              "    </tr>\n",
              "    <tr>\n",
              "      <th>FSVelox</th>\n",
              "      <td>1503.0</td>\n",
              "      <td>0.483857</td>\n",
              "      <td>0.393252</td>\n",
              "      <td>0.0</td>\n",
              "      <td>0.199495</td>\n",
              "      <td>0.199495</td>\n",
              "      <td>1.000000</td>\n",
              "      <td>1.0</td>\n",
              "    </tr>\n",
              "    <tr>\n",
              "      <th>SSDT</th>\n",
              "      <td>1503.0</td>\n",
              "      <td>0.185125</td>\n",
              "      <td>0.226687</td>\n",
              "      <td>0.0</td>\n",
              "      <td>0.036794</td>\n",
              "      <td>0.078550</td>\n",
              "      <td>0.261594</td>\n",
              "      <td>1.0</td>\n",
              "    </tr>\n",
              "    <tr>\n",
              "      <th>SSP</th>\n",
              "      <td>1503.0</td>\n",
              "      <td>0.570531</td>\n",
              "      <td>0.183441</td>\n",
              "      <td>0.0</td>\n",
              "      <td>0.447018</td>\n",
              "      <td>0.594065</td>\n",
              "      <td>0.707727</td>\n",
              "      <td>1.0</td>\n",
              "    </tr>\n",
              "  </tbody>\n",
              "</table>\n",
              "</div>"
            ],
            "text/plain": [
              "              count      mean       std  min       25%       50%       75%  max\n",
              "Frequency    1503.0  0.135676  0.159221  0.0  0.030303  0.070707  0.191919  1.0\n",
              "AngleAttack  1503.0  0.305509  0.266582  0.0  0.090090  0.243243  0.445946  1.0\n",
              "ChordLength  1503.0  0.397810  0.334791  0.0  0.090909  0.272727  0.727273  1.0\n",
              "FSVelox      1503.0  0.483857  0.393252  0.0  0.199495  0.199495  1.000000  1.0\n",
              "SSDT         1503.0  0.185125  0.226687  0.0  0.036794  0.078550  0.261594  1.0\n",
              "SSP          1503.0  0.570531  0.183441  0.0  0.447018  0.594065  0.707727  1.0"
            ]
          },
          "metadata": {
            "tags": []
          },
          "execution_count": 6
        }
      ]
    },
    {
      "cell_type": "markdown",
      "metadata": {
        "id": "UwKCgPJ5QWRh"
      },
      "source": [
        "## Visualizing the data using matplotlib"
      ]
    },
    {
      "cell_type": "code",
      "metadata": {
        "colab": {
          "base_uri": "https://localhost:8080/",
          "height": 265
        },
        "id": "J1U-IqrZQRX8",
        "outputId": "331e547f-754c-4537-fa62-76e2a4abe6d8"
      },
      "source": [
        "import matplotlib.pyplot as plt\n",
        "\n",
        "boxplot = ASNDataScaled.boxplot(column=ASNNames)\n",
        "plt.show()"
      ],
      "execution_count": 7,
      "outputs": [
        {
          "output_type": "display_data",
          "data": {
            "image/png": "[encoded data removed]",
            "text/plain": [
              "<Figure size 432x288 with 1 Axes>"
            ]
          },
          "metadata": {
            "tags": [],
            "needs_background": "light"
          }
        }
      ]
    },
    {
      "cell_type": "code",
      "metadata": {
        "colab": {
          "base_uri": "https://localhost:8080/",
          "height": 235
        },
        "id": "_oKxe_M8Q7FF",
        "outputId": "06378975-7966-4616-c413-6970d4e14361"
      },
      "source": [
        "# Measuring the correlation coefficients\n",
        "\n",
        "CorASNData = ASNDataScaled.corr(method='pearson')\n",
        "CorASNData"
      ],
      "execution_count": 8,
      "outputs": [
        {
          "output_type": "execute_result",
          "data": {
            "text/html": [
              "<div>\n",
              "<style scoped>\n",
              "    .dataframe tbody tr th:only-of-type {\n",
              "        vertical-align: middle;\n",
              "    }\n",
              "\n",
              "    .dataframe tbody tr th {\n",
              "        vertical-align: top;\n",
              "    }\n",
              "\n",
              "    .dataframe thead th {\n",
              "        text-align: right;\n",
              "    }\n",
              "</style>\n",
              "<table border=\"1\" class=\"dataframe\">\n",
              "  <thead>\n",
              "    <tr style=\"text-align: right;\">\n",
              "      <th></th>\n",
              "      <th>Frequency</th>\n",
              "      <th>AngleAttack</th>\n",
              "      <th>ChordLength</th>\n",
              "      <th>FSVelox</th>\n",
              "      <th>SSDT</th>\n",
              "      <th>SSP</th>\n",
              "    </tr>\n",
              "  </thead>\n",
              "  <tbody>\n",
              "    <tr>\n",
              "      <th>Frequency</th>\n",
              "      <td>1.000000</td>\n",
              "      <td>-0.272765</td>\n",
              "      <td>-0.003661</td>\n",
              "      <td>0.133664</td>\n",
              "      <td>-0.230107</td>\n",
              "      <td>-0.390711</td>\n",
              "    </tr>\n",
              "    <tr>\n",
              "      <th>AngleAttack</th>\n",
              "      <td>-0.272765</td>\n",
              "      <td>1.000000</td>\n",
              "      <td>-0.504868</td>\n",
              "      <td>0.058760</td>\n",
              "      <td>0.753394</td>\n",
              "      <td>-0.156108</td>\n",
              "    </tr>\n",
              "    <tr>\n",
              "      <th>ChordLength</th>\n",
              "      <td>-0.003661</td>\n",
              "      <td>-0.504868</td>\n",
              "      <td>1.000000</td>\n",
              "      <td>0.003787</td>\n",
              "      <td>-0.220842</td>\n",
              "      <td>-0.236162</td>\n",
              "    </tr>\n",
              "    <tr>\n",
              "      <th>FSVelox</th>\n",
              "      <td>0.133664</td>\n",
              "      <td>0.058760</td>\n",
              "      <td>0.003787</td>\n",
              "      <td>1.000000</td>\n",
              "      <td>-0.003974</td>\n",
              "      <td>0.125103</td>\n",
              "    </tr>\n",
              "    <tr>\n",
              "      <th>SSDT</th>\n",
              "      <td>-0.230107</td>\n",
              "      <td>0.753394</td>\n",
              "      <td>-0.220842</td>\n",
              "      <td>-0.003974</td>\n",
              "      <td>1.000000</td>\n",
              "      <td>-0.312670</td>\n",
              "    </tr>\n",
              "    <tr>\n",
              "      <th>SSP</th>\n",
              "      <td>-0.390711</td>\n",
              "      <td>-0.156108</td>\n",
              "      <td>-0.236162</td>\n",
              "      <td>0.125103</td>\n",
              "      <td>-0.312670</td>\n",
              "      <td>1.000000</td>\n",
              "    </tr>\n",
              "  </tbody>\n",
              "</table>\n",
              "</div>"
            ],
            "text/plain": [
              "             Frequency  AngleAttack  ChordLength   FSVelox      SSDT       SSP\n",
              "Frequency     1.000000    -0.272765    -0.003661  0.133664 -0.230107 -0.390711\n",
              "AngleAttack  -0.272765     1.000000    -0.504868  0.058760  0.753394 -0.156108\n",
              "ChordLength  -0.003661    -0.504868     1.000000  0.003787 -0.220842 -0.236162\n",
              "FSVelox       0.133664     0.058760     0.003787  1.000000 -0.003974  0.125103\n",
              "SSDT         -0.230107     0.753394    -0.220842 -0.003974  1.000000 -0.312670\n",
              "SSP          -0.390711    -0.156108    -0.236162  0.125103 -0.312670  1.000000"
            ]
          },
          "metadata": {
            "tags": []
          },
          "execution_count": 8
        }
      ]
    },
    {
      "cell_type": "markdown",
      "metadata": {
        "id": "mFIk7n0qSkl_"
      },
      "source": [
        "Highest correlation between predictors and response(SSP) is shown by\n",
        "1. Frequency = -0.39\n",
        "2. SSDT = -0.313"
      ]
    },
    {
      "cell_type": "code",
      "metadata": {
        "colab": {
          "base_uri": "https://localhost:8080/",
          "height": 330
        },
        "id": "_RNOEKQFSYRG",
        "outputId": "f9782a45-dd48-4b69-d568-9c8d395cc0d0"
      },
      "source": [
        "# Using a correlogram to visually see the correlation\n",
        "plt.figure(figsize=(10,5))\n",
        "plt.matshow(CorASNData, fignum=1)\n",
        "plt.xticks(range(len(CorASNData.columns)), CorASNData.columns)\n",
        "plt.yticks(range(len(CorASNData.columns)), CorASNData.columns)\n",
        "plt.colorbar()\n",
        "plt.show()"
      ],
      "execution_count": 9,
      "outputs": [
        {
          "output_type": "display_data",
          "data": {
            "image/png": "[encoded data removed]",
            "text/plain": [
              "<Figure size 720x360 with 2 Axes>"
            ]
          },
          "metadata": {
            "tags": [],
            "needs_background": "light"
          }
        }
      ]
    },
    {
      "cell_type": "markdown",
      "metadata": {
        "id": "gJtkuuR0Vmm_"
      },
      "source": [
        "## Training the data\n",
        "\n",
        "* Data splitting using `train_test_split()` and a 70-30 train test split"
      ]
    },
    {
      "cell_type": "code",
      "metadata": {
        "colab": {
          "base_uri": "https://localhost:8080/"
        },
        "id": "y5orGCGbTWhG",
        "outputId": "ec8e5181-175b-4497-df45-c4750a899f48"
      },
      "source": [
        "from sklearn.model_selection import train_test_split\n",
        "X = ASNDataScaled.drop('SSP', axis=1)\n",
        "X.shape"
      ],
      "execution_count": 10,
      "outputs": [
        {
          "output_type": "execute_result",
          "data": {
            "text/plain": [
              "(1503, 5)"
            ]
          },
          "metadata": {
            "tags": []
          },
          "execution_count": 10
        }
      ]
    },
    {
      "cell_type": "code",
      "metadata": {
        "colab": {
          "base_uri": "https://localhost:8080/"
        },
        "id": "H-G5hVfoWAve",
        "outputId": "5f5e0835-d6bf-4e05-d0c6-2dc9d8b10f8d"
      },
      "source": [
        "Y = ASNDataScaled['SSP']\n",
        "Y.shape"
      ],
      "execution_count": 11,
      "outputs": [
        {
          "output_type": "execute_result",
          "data": {
            "text/plain": [
              "(1503,)"
            ]
          },
          "metadata": {
            "tags": []
          },
          "execution_count": 11
        }
      ]
    },
    {
      "cell_type": "code",
      "metadata": {
        "colab": {
          "base_uri": "https://localhost:8080/"
        },
        "id": "eAMuyyV4WHMM",
        "outputId": "45e52fd1-7b62-4a28-cb68-a504c56e7e55"
      },
      "source": [
        "X_train, X_test, Y_train, Y_test = train_test_split(X, Y, test_size=0.30, random_state=5)\n",
        "X_train.shape"
      ],
      "execution_count": 12,
      "outputs": [
        {
          "output_type": "execute_result",
          "data": {
            "text/plain": [
              "(1052, 5)"
            ]
          },
          "metadata": {
            "tags": []
          },
          "execution_count": 12
        }
      ]
    },
    {
      "cell_type": "markdown",
      "metadata": {
        "id": "AdXhTbS6XT6t"
      },
      "source": [
        "## Linear Regression using sklearn\n",
        "\n",
        "Establishing a baseline using Linear Regression"
      ]
    },
    {
      "cell_type": "code",
      "metadata": {
        "colab": {
          "base_uri": "https://localhost:8080/"
        },
        "id": "bho8yVjKW8iG",
        "outputId": "831fb844-a582-4eba-c1b8-fdc452be9ed3"
      },
      "source": [
        "from sklearn.linear_model import LinearRegression\n",
        "\n",
        "l_model = LinearRegression()\n",
        "\n",
        "l_model.fit(X_train, Y_train)"
      ],
      "execution_count": 13,
      "outputs": [
        {
          "output_type": "execute_result",
          "data": {
            "text/plain": [
              "LinearRegression(copy_X=True, fit_intercept=True, n_jobs=None, normalize=False)"
            ]
          },
          "metadata": {
            "tags": []
          },
          "execution_count": 13
        }
      ]
    },
    {
      "cell_type": "code",
      "metadata": {
        "id": "SI-Pyr0yXyt1"
      },
      "source": [
        "y_pred_l_model = l_model.predict(X_test)"
      ],
      "execution_count": 14,
      "outputs": []
    },
    {
      "cell_type": "code",
      "metadata": {
        "colab": {
          "base_uri": "https://localhost:8080/"
        },
        "id": "8duKuWxnX4sc",
        "outputId": "a4191b6b-d8dd-4216-804a-c84188960e19"
      },
      "source": [
        "# Evaluation using Mean Squared error\n",
        "from sklearn.metrics import mean_squared_error\n",
        "\n",
        "mse_l_model = mean_squared_error(Y_test, y_pred_l_model)\n",
        "mse_l_model"
      ],
      "execution_count": 15,
      "outputs": [
        {
          "output_type": "execute_result",
          "data": {
            "text/plain": [
              "0.015826467113949756"
            ]
          },
          "metadata": {
            "tags": []
          },
          "execution_count": 15
        }
      ]
    },
    {
      "cell_type": "markdown",
      "metadata": {
        "id": "ID69ycUseYR8"
      },
      "source": [
        "## Using a multilayer perceptron based model - MLPRegressor()\n",
        "\n",
        "* This regressor proceeds iteratively in the data training\n",
        "* At each step it calculates the partial derivatives of the loss function with respect to the model parameters and updates the parameters using the results\n",
        "* Regularization is added to the loss function to reduce model parameters to avoid data overfitting\n",
        "* `MLPRegressor()` optimizes the squared loss by using a limited memory version of the **Broyden-Fletcher-Goldfarb-Shanno** algorithm or stochastic gradient descent"
      ]
    },
    {
      "cell_type": "code",
      "metadata": {
        "id": "4lYTQoXvYQ9F"
      },
      "source": [
        "from sklearn.neural_network import MLPRegressor\n",
        "\n",
        "MLPRegModel = MLPRegressor(hidden_layer_sizes=(50),\n",
        "                           activation='relu', solver='lbfgs',\n",
        "                           tol=1e-4, max_iter=10000, random_state=0)\n",
        "\n",
        "MLPRegModel.fit(X_train, Y_train)\n",
        "y_pred_mlpreg = MLPRegModel.predict(X_test)"
      ],
      "execution_count": 16,
      "outputs": []
    },
    {
      "cell_type": "markdown",
      "metadata": {
        "id": "PlHd1qxQrJNg"
      },
      "source": [
        "The mean square error for the Neural Network(error = 0.003) is much lower than the baseline set by Linear Regression(error = 0.015)"
      ]
    },
    {
      "cell_type": "code",
      "metadata": {
        "colab": {
          "base_uri": "https://localhost:8080/"
        },
        "id": "sZjoVJ23qqrI",
        "outputId": "6e823867-b215-4548-c401-97259818c079"
      },
      "source": [
        "# Evaluating the model\n",
        "mse_mlp = mean_squared_error(Y_test, y_pred_mlpreg)\n",
        "mse_mlp"
      ],
      "execution_count": 17,
      "outputs": [
        {
          "output_type": "execute_result",
          "data": {
            "text/plain": [
              "0.0033909050497090906"
            ]
          },
          "metadata": {
            "tags": []
          },
          "execution_count": 17
        }
      ]
    },
    {
      "cell_type": "markdown",
      "metadata": {
        "id": "Nf6RI_MUrlcJ"
      },
      "source": [
        "## Comparing the two models visually\n",
        "\n",
        "* Two scatter plots -\n",
        "  1. Neural Network Model\n",
        "  2. Linear Regression(baseline)\n",
        "* The axes -\n",
        "  * Actual Values(expected)\n",
        "  * Predicted Values"
      ]
    },
    {
      "cell_type": "code",
      "metadata": {
        "colab": {
          "base_uri": "https://localhost:8080/",
          "height": 350
        },
        "id": "VoazmcTZrDpm",
        "outputId": "0f2b067c-9042-4048-c2a5-2ccfbd93584b"
      },
      "source": [
        "# SKLearn Neural Network diagram\n",
        "plt.figure(figsize=(10,5))\n",
        "plt.figure(1)\n",
        "plt.subplot(121)\n",
        "plt.scatter(Y_test, y_pred_mlpreg)\n",
        "plt.plot((0, 1), \"r--\")\n",
        "plt.xlabel(\"Actual Values\")\n",
        "plt.ylabel(\"Predicted Labels\")\n",
        "plt.title(\"Scikit-Learn Neural Network Model\")\n",
        "\n",
        "# SKLearn Linear Regression\n",
        "plt.subplot(122)\n",
        "plt.scatter(Y_test, y_pred_l_model)\n",
        "plt.plot((0,1), \"r--\")\n",
        "plt.xlabel(\"Actual Values\")\n",
        "plt.ylabel(\"Predicted Values\")\n",
        "plt.title(\"Scikit-Learn Linear Regression Model\")\n",
        "\n",
        "plt.savefig('/content/drive/MyDrive/airflow_noise_models_comparison.png')\n",
        "plt.show()"
      ],
      "execution_count": 20,
      "outputs": [
        {
          "output_type": "display_data",
          "data": {
            "image/png": "[encoded data removed]",
            "text/plain": [
              "<Figure size 720x360 with 2 Axes>"
            ]
          },
          "metadata": {
            "tags": [],
            "needs_background": "light"
          }
        }
      ]
    },
    {
      "cell_type": "markdown",
      "metadata": {
        "id": "EJJM6M9ltpir"
      },
      "source": [
        "## Conclusion\n",
        "\n",
        "By observing the graphs above, we see that the points for the neural network graph lie much closer to the dotted line(bisector line) as compared to the graph for the linear regression model. This confirms that the predictions made by the neural network model are closer to the actual values as compared to those made by the linear model."
      ]
    },
    {
      "cell_type": "code",
      "metadata": {
        "colab": {
          "base_uri": "https://localhost:8080/",
          "height": 34
        },
        "id": "WrNzmzQotT8o",
        "outputId": "966dbd9e-8206-49ed-f598-76a369e82cfe"
      },
      "source": [
        ""
      ],
      "execution_count": 19,
      "outputs": [
        {
          "output_type": "display_data",
          "data": {
            "text/plain": [
              "<Figure size 432x288 with 0 Axes>"
            ]
          },
          "metadata": {
            "tags": []
          }
        }
      ]
    },
    {
      "cell_type": "code",
      "metadata": {
        "id": "A75de8I0r-7v"
      },
      "source": [
        ""
      ],
      "execution_count": null,
      "outputs": []
    }
  ]
}